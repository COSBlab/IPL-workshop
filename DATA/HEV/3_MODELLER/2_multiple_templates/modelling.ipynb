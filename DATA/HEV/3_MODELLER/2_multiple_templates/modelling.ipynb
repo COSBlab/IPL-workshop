{
 "cells": [
  {
   "cell_type": "code",
   "execution_count": 1,
   "id": "912fed96-bf84-4990-9d1a-fd6491ff2df8",
   "metadata": {},
   "outputs": [],
   "source": [
    "import os\n",
    "import sys\n",
    "import glob\n",
    "from modeller import *"
   ]
  },
  {
   "cell_type": "markdown",
   "id": "c716d18c-93d9-48cd-81c2-5b8f331d5844",
   "metadata": {},
   "source": [
    "### From the BLAST results and the MSA of the best homologs, choose several structures to use as templates for the modelling:"
   ]
  },
  {
   "cell_type": "markdown",
   "id": "d1fe5826-966e-4b3f-a7c3-9f48b95ab991",
   "metadata": {},
   "source": [
    "##### We keep 2ZTN because it has the best sequence identity among those with e-value=0 that cover the entire protein\n",
    "##### We add 8PMX because it has the best sequence identity for the P domain of interest."
   ]
  },
  {
   "cell_type": "code",
   "execution_count": 2,
   "id": "67421cc6-ad11-4612-8874-0c20d40ac54c",
   "metadata": {},
   "outputs": [],
   "source": [
    "target = \"capsid\"\n",
    "pdbs = [\"\", \"\"]\n",
    "chain = [\"\", \"\"]"
   ]
  },
  {
   "cell_type": "markdown",
   "id": "49da3503-cfb9-4ee0-a22b-8dfaea89b5eb",
   "metadata": {},
   "source": [
    "#### Get the pdb structures"
   ]
  },
  {
   "cell_type": "code",
   "execution_count": 3,
   "id": "2f0ab1ba-496b-41d3-8117-495468ee82c9",
   "metadata": {},
   "outputs": [],
   "source": [
    "for pdb in pdbs:\n",
    "    if not glob.glob(\"../../Structures/{}.pdb\".format(pdb)):\n",
    "        print(\"downloading {}.pdb\".format(pdb))\n",
    "        os.system(\"curl -s -f https://files.rcsb.org/download/{}.pdb -o ../../Structures/{}.pdb\".format(pdb, pdb))\n",
    "    else:\n",
    "        print(\"{}.pdb already downloaded.\".format(pdb))"
   ]
  },
  {
   "cell_type": "markdown",
   "id": "529ddee2-af57-434f-b7f7-053b034e8b11",
   "metadata": {},
   "source": [
    "#### Align the template sequence with the target sequence on MAFFT or CLUSTALW"
   ]
  },
  {
   "cell_type": "code",
   "execution_count": 4,
   "id": "022c5e35-b005-4e82-abd6-4ab80f5fcc0a",
   "metadata": {},
   "outputs": [],
   "source": [
    "# the target fasta sequence\n",
    "with open(\"../../Sequences/{}.fasta\".format(target), \"r\") as f:\n",
    "    print(f.read())\n",
    "for i, pdb in enumerate(pdbs):\n",
    "    # the template pdb fasta sequences\n",
    "    with open(\"../../Sequences/{}_{}.fasta\".format(pdb, chain[i]), \"r\") as f:\n",
    "        print(f.read())"
   ]
  },
  {
   "cell_type": "markdown",
   "id": "247b91c1-9fec-462a-8506-6b7abecf91b3",
   "metadata": {},
   "source": [
    "##### Download the fasta format output\n",
    "##### Deposit in this directory and name it \"alignment.fasta\""
   ]
  },
  {
   "cell_type": "markdown",
   "id": "e0377fb0-a168-4ec0-b964-3bc1c20cd590",
   "metadata": {},
   "source": [
    "#### Convert the CLUSTAL format alignment into pir format:\n",
    "##### Adjust the pir file if necessary"
   ]
  },
  {
   "cell_type": "code",
   "execution_count": 5,
   "id": "1581b2d2-f5fb-4c04-9520-4f1b0e54c0da",
   "metadata": {},
   "outputs": [],
   "source": [
    "with open(\"alignment.fasta\", \"r\") as f:\n",
    "    data = [el.rstrip(\"\\n\") for el in f.readlines()]\n",
    "\n",
    "alignment = dict()\n",
    "key = None\n",
    "value = \"\"\n",
    "for el in data:\n",
    "    if el[0] == \">\":\n",
    "        value = \"\"\n",
    "        key = el.lstrip(\">\")\n",
    "    else:\n",
    "        if key is not None:\n",
    "            if key not in alignment.keys():\n",
    "                alignment[key] = [el]\n",
    "            else:\n",
    "                alignment[key].append(el)\n",
    "                #value = value + el\n",
    "            #alignment[key] = value\n",
    "\n",
    "with open(\"alignment.pir\", \"w\") as f:\n",
    "    for k, val in alignment.items():\n",
    "        f.write(\">P1;{}\\n\".format(k))\n",
    "        # if target sequence:\n",
    "        if k == target:\n",
    "            f.write(\"sequence:{}:FIRST:A:LAST:::::\\n\".format(k))\n",
    "        else:\n",
    "            f.write(\"structureX:{}:FIRST:A:LAST:::::\\n\".format(k))\n",
    "        for i, el in enumerate(val):\n",
    "            if i == len(val)-1:\n",
    "                f.write(\"{}*\\n\".format(el))\n",
    "            else:\n",
    "                f.write(\"{}\\n\".format(el))"
   ]
  },
  {
   "cell_type": "markdown",
   "id": "86dd986e-ec70-4677-8af6-eb9fe38981c8",
   "metadata": {},
   "source": [
    "#### Build the model using automodel by executing the cells below or by running build_model.py in the directory (recommended)."
   ]
  },
  {
   "cell_type": "code",
   "execution_count": 6,
   "id": "54833a68-beeb-4dfd-8bdd-32476f60683b",
   "metadata": {},
   "outputs": [],
   "source": [
    "from modeller.automodel import *"
   ]
  },
  {
   "cell_type": "code",
   "execution_count": 10,
   "id": "e8e98b5e-b987-4203-a4a1-560dc24d2180",
   "metadata": {},
   "outputs": [],
   "source": [
    "env4 = Environ()\n",
    "env4.io.atom_files_directory = ['.', '../../Structures/']\n",
    "\n",
    "#sys._jupyter_stdout = sys.stdout\n",
    "#sys.stdout = open(os.devnull, 'w') # block prints to avoid overflow of lines in our jupyter notebook.\n",
    "###\n",
    "\n",
    "a = AutoModel(env4, \n",
    "              alnfile='alignment.pir',\n",
    "              knowns=tuple(pdbs), \n",
    "              sequence=target,\n",
    "              assess_methods=(assess.DOPE,\n",
    "                              assess.normalized_dope,\n",
    "                              assess.GA341))\n",
    "a.starting_model = 1\n",
    "a.ending_model = 5\n",
    "a.make()\n",
    "\n",
    "###\n",
    "#sys.stdout = sys._jupyter_stdout #sys.__stdout__ # reenable prints\n",
    "#print(\"done.\")"
   ]
  },
  {
   "cell_type": "markdown",
   "id": "629478e3-1e99-4dbc-b8a9-899be65d2513",
   "metadata": {},
   "source": [
    "### Preparation for analysis"
   ]
  },
  {
   "cell_type": "code",
   "execution_count": 13,
   "id": "84f529fa-6d3e-41b1-93e0-175a0c5f77d8",
   "metadata": {},
   "outputs": [],
   "source": [
    "from modeller.scripts import complete_pdb\n",
    "\n",
    "env5 = Environ()\n",
    "env5.io.atom_files_directory = ['.', '../../Structures/']\n",
    "env5.libs.topology.read(file='$(LIB)/top_heav.lib') # read topology\n",
    "env5.libs.parameters.read(file='$(LIB)/par.lib') # read parameters"
   ]
  },
  {
   "cell_type": "markdown",
   "id": "65d394ca-0add-49eb-bf3e-d38ce6490010",
   "metadata": {},
   "source": [
    "### Make DOPE score files for analysis"
   ]
  },
  {
   "cell_type": "code",
   "execution_count": 15,
   "id": "5edcc759-23f0-4bd6-9619-50aa2177b233",
   "metadata": {},
   "outputs": [],
   "source": [
    "# read model file\n",
    "mdl1 = complete_pdb(env5, './capsid.B99990001.pdb')\n",
    "mdl2 = complete_pdb(env5, './capsid.B99990002.pdb')\n",
    "mdl3 = complete_pdb(env5, './capsid.B99990003.pdb')\n",
    "mdl4 = complete_pdb(env5, './capsid.B99990004.pdb')\n",
    "mdl5 = complete_pdb(env5, './capsid.B99990005.pdb')\n",
    "\n",
    "sys._jupyter_stdout = sys.stdout\n",
    "sys.stdout = open(os.devnull, 'w') # block prints to avoid overflow of lines in our jupyter notebook.\n",
    "###\n",
    "\n",
    "# Assess with DOPE:\n",
    "s1 = Selection(mdl1)   # all atom selection\n",
    "s1.assess_dope(output='ENERGY_PROFILE NO_REPORT', file='capsid_model1.profile',\n",
    "              normalize_profile=True, smoothing_window=15) # DOPE energy calculation\n",
    "\n",
    "s2 = Selection(mdl2)   # all atom selection\n",
    "s2.assess_dope(output='ENERGY_PROFILE NO_REPORT', file='capsid_model2.profile',\n",
    "              normalize_profile=True, smoothing_window=15) # DOPE energy calculation\n",
    "\n",
    "s3 = Selection(mdl3)   # all atom selection\n",
    "s3.assess_dope(output='ENERGY_PROFILE NO_REPORT', file='capsid_model3.profile',\n",
    "              normalize_profile=True, smoothing_window=15) # DOPE energy calculation\n",
    "\n",
    "s4 = Selection(mdl4)   # all atom selection\n",
    "s4.assess_dope(output='ENERGY_PROFILE NO_REPORT', file='capsid_model4.profile',\n",
    "              normalize_profile=True, smoothing_window=15) # DOPE energy calculation\n",
    "\n",
    "s5 = Selection(mdl5)   # all atom selection\n",
    "s5.assess_dope(output='ENERGY_PROFILE NO_REPORT', file='capsid_model5.profile',\n",
    "              normalize_profile=True, smoothing_window=15) # DOPE energy calculation\n",
    "\n",
    "###\n",
    "sys.stdout = sys._jupyter_stdout #sys.__stdout__ # reenable prints\n",
    "print(\"done.\")"
   ]
  },
  {
   "cell_type": "code",
   "execution_count": null,
   "id": "e6beb0fb-5b8c-4791-8389-394fb0cdf862",
   "metadata": {},
   "outputs": [],
   "source": []
  },
  {
   "cell_type": "code",
   "execution_count": null,
   "id": "556e18b6-4971-4c9f-8512-2a271ed9d565",
   "metadata": {},
   "outputs": [],
   "source": []
  }
 ],
 "metadata": {
  "kernelspec": {
   "display_name": "Python 3 (ipykernel)",
   "language": "python",
   "name": "python3"
  },
  "language_info": {
   "codemirror_mode": {
    "name": "ipython",
    "version": 3
   },
   "file_extension": ".py",
   "mimetype": "text/x-python",
   "name": "python",
   "nbconvert_exporter": "python",
   "pygments_lexer": "ipython3",
   "version": "3.11.7"
  }
 },
 "nbformat": 4,
 "nbformat_minor": 5
}
