{
 "cells": [
  {
   "cell_type": "code",
   "execution_count": 6,
   "id": "8c4094db-27bf-4738-a914-1efb646aa78a",
   "metadata": {},
   "outputs": [],
   "source": [
    "import numpy as np\n",
    "import re"
   ]
  },
  {
   "cell_type": "code",
   "execution_count": 88,
   "id": "487d9698-22a4-4357-abca-bb8fb8e2ef6c",
   "metadata": {},
   "outputs": [],
   "source": [
    "def write_pdb(atom_nbs, atom_types, res_types, res_nbs, chain_ids, X, Y, Z, pops=None, bfactors=None, chain_ids2=None, atom_labels=None, output=\"output.pdb\"):\n",
    "    if pops is None:\n",
    "        pops = [1.0 for el in atom_nbs]\n",
    "    if atom_labels is None:\n",
    "        atom_labels = [el[1] for el in atom_types]\n",
    "    with open(output, \"w\") as f:\n",
    "        for i, el in enumerate(atom_nbs):\n",
    "            if i > 0:\n",
    "                if chain_ids[i-1] != chain_ids[i]:\n",
    "                    # end of precedent protein\n",
    "                    f.write(\"TER                                                                             \\n\")\n",
    "            if bfactors is not None:\n",
    "                #             ids  type rtyp chain rnb  X        Y       Z      pop   bfact          atomlabels\n",
    "                f.write(\"ATOM{:>7} {:^5}{:^3} {}{:^8}{:>8.3f}{:>8.3f}{:>8.3f}{:>6.2f}{:>6.2f}           {}  \\n\".format(atom_nbs[i], atom_types[i], res_types[i], chain_ids[i], res_nbs[i], X[i], Y[i], Z[i], pops[i], bfactors[i], atom_labels[i]))\n",
    "            else:\n",
    "                f.write(\"ATOM{:>7} {:^5}{:^3} {}{:^8}{:>8.3f}{:>8.3f}{:>8.3f}{:>6.2f}                 {}  \\n\".format(atom_nbs[i], atom_types[i], res_types[i], chain_ids[i], res_nbs[i], X[i], Y[i], Z[i], pops[i], bfactors[i], atom_labels[i]))\n",
    "        #f.write(\"TER                                                                             \\n\")\n",
    "        f.write(\"END                                                                             \")\n",
    "\n",
    "\n",
    "def read_pdb(pdbfile):\n",
    "    with open(pdbfile, \"r\") as f:\n",
    "        data = [el.rstrip(\"\\n\") for el in f.readlines() if el.split()[0] == 'ATOM']\n",
    "    atom_nbs = [int(el[4:11]) for el in data]\n",
    "    atom_types = [el[12:17].rstrip(\" \").lstrip(\" \") for el in data]\n",
    "    res_types = [el[17:20].rstrip(\" \").lstrip(\" \") for el in data]\n",
    "    chain_ids = [el[21] for el in data]\n",
    "    res_nbs = [int(el[22:30]) for el in data]\n",
    "    X = [float(el[30:38]) for el in data]\n",
    "    Y = [float(el[38:46]) for el in data]\n",
    "    Z = [float(el[46:54]) for el in data]\n",
    "    pops = [float(el[54:60]) for el in data]\n",
    "    bfactors = [float(el[60:66]) for el in data]\n",
    "    atom_labels = [el[77] for el in data]\n",
    "    return atom_nbs, atom_types, res_types, res_nbs, chain_ids, X, Y, Z, pops, bfactors, None, atom_labels"
   ]
  },
  {
   "cell_type": "markdown",
   "id": "6b0a2c3a-6a09-45d2-8021-df0b8edbaf1c",
   "metadata": {},
   "source": [
    "### Read the input pdb and extract the protein information"
   ]
  },
  {
   "cell_type": "code",
   "execution_count": 89,
   "id": "27c9bfce-4acd-4232-9427-66e12712adfb",
   "metadata": {},
   "outputs": [],
   "source": [
    "atom_nbs, atom_types, res_types, res_nbs, chain_ids, X, Y, Z, pops, bfactors, chain_ids2, atom_labels = read_pdb(\"4g6k.pdb\")"
   ]
  },
  {
   "cell_type": "markdown",
   "id": "728a18cf-5d8c-4674-adf5-c336ca4bc106",
   "metadata": {},
   "source": [
    "### Shift the residues of chain L by 500 to avoid residue number overlaps in HADDOCK\n",
    "##### Change the editing depending on your needs"
   ]
  },
  {
   "cell_type": "code",
   "execution_count": 90,
   "id": "1e060711-bf1e-43bc-9c98-744ee8cf7d31",
   "metadata": {},
   "outputs": [],
   "source": [
    "for i, el in enumerate(chain_ids):\n",
    "    if el == \"L\":\n",
    "        res_nbs[i] += 500"
   ]
  },
  {
   "cell_type": "markdown",
   "id": "70ae0a7f-752c-43bc-9699-dd1e5e091fff",
   "metadata": {},
   "source": [
    "### save a clean PDB"
   ]
  },
  {
   "cell_type": "code",
   "execution_count": 91,
   "id": "d70c7d69-91fb-4d12-8466-d501430d43f2",
   "metadata": {},
   "outputs": [],
   "source": [
    "output = \"test.pdb\"\n",
    "write_pdb(atom_nbs, atom_types, res_types, res_nbs, chain_ids, X, Y, Z, pops, bfactors, chain_ids2, atom_labels, output=output)"
   ]
  },
  {
   "cell_type": "code",
   "execution_count": null,
   "id": "e6e99e08-fe20-4cb1-91f9-ed3c2855db3b",
   "metadata": {},
   "outputs": [],
   "source": []
  }
 ],
 "metadata": {
  "kernelspec": {
   "display_name": "Python 3 (ipykernel)",
   "language": "python",
   "name": "python3"
  },
  "language_info": {
   "codemirror_mode": {
    "name": "ipython",
    "version": 3
   },
   "file_extension": ".py",
   "mimetype": "text/x-python",
   "name": "python",
   "nbconvert_exporter": "python",
   "pygments_lexer": "ipython3",
   "version": "3.11.7"
  }
 },
 "nbformat": 4,
 "nbformat_minor": 5
}
