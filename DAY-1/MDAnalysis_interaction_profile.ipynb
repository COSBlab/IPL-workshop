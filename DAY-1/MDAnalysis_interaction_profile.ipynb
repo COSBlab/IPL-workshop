{
 "cells": [
  {
   "cell_type": "markdown",
   "id": "f7926bc3-8fa3-46c3-aad0-b840726314f2",
   "metadata": {},
   "source": [
    "# Structural analysis with MDAnalysis"
   ]
  },
  {
   "cell_type": "code",
   "execution_count": null,
   "id": "067383cd-6ef3-4c26-858f-ec161db93099",
   "metadata": {},
   "outputs": [],
   "source": [
    "import matplotlib.pyplot as plt\n",
    "import re\n",
    "import numpy as np\n",
    "import MDAnalysis as mda\n",
    "from MDAnalysis.analysis import distances"
   ]
  },
  {
   "cell_type": "markdown",
   "id": "deddd3dc-a999-49b7-9c08-dfc373a9a08b",
   "metadata": {},
   "source": [
    "### Read the pdb in MDAnalysis"
   ]
  },
  {
   "cell_type": "code",
   "execution_count": null,
   "id": "459c76d5-5b66-4e7d-83e3-d2d30bf8b2f7",
   "metadata": {},
   "outputs": [],
   "source": [
    "PDB_ = \"BANAL-20-52.B99990001.pdb\"\n",
    "u = mda.Universe(PDB_)"
   ]
  },
  {
   "cell_type": "markdown",
   "id": "27ddc62e-93b1-4838-a692-b39c1913c643",
   "metadata": {},
   "source": [
    "### Select the atoms for distance calculation\n",
    "##### We will select carbon alphas of our protein and of the antibody"
   ]
  },
  {
   "cell_type": "code",
   "execution_count": null,
   "id": "e3dd3eb2-b190-4179-ab15-939ee2804644",
   "metadata": {},
   "outputs": [],
   "source": [
    "# get all CA atoms\n",
    "CA_atoms = u.select_atoms('name CA')\n",
    "\n",
    "# get the CA atoms of spike and from the antibody Fab domain. You must edit the chains that must be selected if necessary\n",
    "spike_CA = CA_atoms.select_atoms('chainID A')\n",
    "# get the CA atoms of the antibody Fab domain. This all the other chains wrt to the spike chain\n",
    "antibody_CA = CA_atoms.select_atoms('not chainID A')\n",
    "\n",
    "print(\"spike number of residues: {}\".format(len(spike_CA)))\n",
    "print(\"antibody number of residues: {}\".format(len(antibody_CA)))"
   ]
  },
  {
   "cell_type": "markdown",
   "id": "ffa4839f-2790-4c9d-947f-3e484a5f68c1",
   "metadata": {},
   "source": [
    "### Calculate the distance matrix between these two selections"
   ]
  },
  {
   "cell_type": "code",
   "execution_count": null,
   "id": "30458724-dace-49d9-b4d1-6c9d61bc5062",
   "metadata": {},
   "outputs": [],
   "source": [
    "distance_matrix = distances.distance_array(spike_CA, antibody_CA)\n",
    "print(distance_matrix.shape)"
   ]
  },
  {
   "cell_type": "markdown",
   "id": "9f23cab1-2285-4e71-86de-ebd42d75928e",
   "metadata": {},
   "source": [
    "### Set a reasonable distance cutoff for contact:"
   ]
  },
  {
   "cell_type": "code",
   "execution_count": null,
   "id": "1b396f9b-f672-4c06-931b-88add01f318c",
   "metadata": {},
   "outputs": [],
   "source": [
    "distance_cutoff = 8.0"
   ]
  },
  {
   "cell_type": "markdown",
   "id": "ebb41d30-e56c-496c-9a96-c36f624b9839",
   "metadata": {},
   "source": [
    "### Identify the contacts"
   ]
  },
  {
   "cell_type": "code",
   "execution_count": null,
   "id": "870b3259-25a7-42ab-a606-a5b6c326db68",
   "metadata": {},
   "outputs": [],
   "source": [
    "ids = np.where(distance_matrix < distance_cutoff)\n",
    "# contact residues\n",
    "contacts = sorted(list(set(ids[0])))\n",
    "\n",
    "print(\"{} residues were found at the interation surface with the antibody\".format(len(contacts)))"
   ]
  },
  {
   "cell_type": "markdown",
   "id": "283068de-0acc-4d52-b52f-07ef729232a1",
   "metadata": {},
   "source": [
    "### Save interfacial residues to file\n",
    "##### We can run this on multiple PDBs and plot statistics of frequency"
   ]
  },
  {
   "cell_type": "code",
   "execution_count": null,
   "id": "845a0a38-5e66-423f-a215-b277db26e7f0",
   "metadata": {},
   "outputs": [],
   "source": [
    "OUTFILE_ = re.sub(\".pdb$\",\".inter\", PDB_)\n",
    "out = open(OUTFILE_, \"w\")\n",
    "for id in contacts:\n",
    "    at = spike_CA[id]\n",
    "    out.write(\"%s %d %s\\n\" % (at.resname, at.resid, at.segid))\n",
    "out.close()"
   ]
  },
  {
   "cell_type": "markdown",
   "id": "d9a3af29-2a27-4314-9093-e3977c90aeb7",
   "metadata": {},
   "source": [
    "### Create a PDB file with interaction information in Bfactor column"
   ]
  },
  {
   "cell_type": "code",
   "execution_count": null,
   "id": "ad2de9b1-eb83-442d-b77d-11534f9da38d",
   "metadata": {},
   "outputs": [],
   "source": [
    "# set all the bfactors to zero\n",
    "atoms = u.atoms\n",
    "for at in atoms:\n",
    "    at.tempfactor = 0.0\n",
    "# set interacting residues on viral protein to a large number (100.0)\n",
    "for id in contacts:\n",
    "    r = spike_CA[id].residue\n",
    "    for at in r.atoms:\n",
    "        at.tempfactor = 100.0\n",
    "# save PDB file\n",
    "OUTFILE_ = re.sub(\".pdb$\",\".inter.pdb\", PDB_)\n",
    "atoms.write(OUTFILE_)"
   ]
  }
 ],
 "metadata": {
  "kernelspec": {
   "display_name": "Python 3 (ipykernel)",
   "language": "python",
   "name": "python3"
  },
  "language_info": {
   "codemirror_mode": {
    "name": "ipython",
    "version": 3
   },
   "file_extension": ".py",
   "mimetype": "text/x-python",
   "name": "python",
   "nbconvert_exporter": "python",
   "pygments_lexer": "ipython3",
   "version": "3.12.6"
  }
 },
 "nbformat": 4,
 "nbformat_minor": 5
}
