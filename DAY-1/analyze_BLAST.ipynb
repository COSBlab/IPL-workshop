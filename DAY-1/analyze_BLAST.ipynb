{
 "cells": [
  {
   "cell_type": "code",
   "execution_count": null,
   "id": "8c401095-ea80-40ac-8f23-bcdb63650186",
   "metadata": {},
   "outputs": [],
   "source": [
    "import os\n",
    "import sys\n",
    "import glob"
   ]
  },
  {
   "cell_type": "markdown",
   "id": "e26c2c07-a20b-443c-91b2-2bcd0ff3ec3b",
   "metadata": {},
   "source": [
    "## Read the hit table and extract the pdb information (% identity witht the compared sequence, e-value):"
   ]
  },
  {
   "cell_type": "code",
   "execution_count": null,
   "id": "3f9d840e-33a6-4157-a71c-1ea425d3de98",
   "metadata": {},
   "outputs": [],
   "source": [
    "with open(\"./hit_table.txt\", \"r\") as f:\n",
    "    data = [el.rstrip(\"\\n\").split(\"\\t\") for el in f.readlines() if el[0] != \"#\"]\n",
    "data = [el for el in data if el != ['']]\n",
    "#data\n",
    "names = [el[1] for el in data]\n",
    "per_identitys = [float(el[2]) for el in data]\n",
    "e_values = [float(el[-3]) for el in data]\n",
    "#\n",
    "for i, el in enumerate(names):\n",
    "    print(\"system: {} \\t identity: {} \\t e-value: {}\".format(names[i], per_identitys[i], e_values[i]))\n",
    "\n",
    "hit_results = {el: {\"%identity\": per_identitys[i], \"e-value\": e_values[i]} for i, el in enumerate(names)}"
   ]
  }
 ],
 "metadata": {
  "kernelspec": {
   "display_name": "Python 3 (ipykernel)",
   "language": "python",
   "name": "python3"
  },
  "language_info": {
   "codemirror_mode": {
    "name": "ipython",
    "version": 3
   },
   "file_extension": ".py",
   "mimetype": "text/x-python",
   "name": "python",
   "nbconvert_exporter": "python",
   "pygments_lexer": "ipython3",
   "version": "3.12.6"
  }
 },
 "nbformat": 4,
 "nbformat_minor": 5
}
