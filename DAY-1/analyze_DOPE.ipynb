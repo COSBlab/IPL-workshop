{
 "cells": [
  {
   "cell_type": "code",
   "execution_count": null,
   "id": "912fed96-bf84-4990-9d1a-fd6491ff2df8",
   "metadata": {},
   "outputs": [],
   "source": [
    "import matplotlib.pyplot as plt"
   ]
  },
  {
   "cell_type": "markdown",
   "id": "099bff30-5288-4ffd-b753-8e25dd69140a",
   "metadata": {},
   "source": [
    "### Extract DOPE score from models"
   ]
  },
  {
   "cell_type": "code",
   "execution_count": null,
   "id": "5edcc759-23f0-4bd6-9619-50aa2177b233",
   "metadata": {},
   "outputs": [],
   "source": [
    "# function to get DOPE from model\n",
    "def get_DOPE(mod):\n",
    "    for lines in open(mod, \"r\").readlines():\n",
    "        r = lines.strip().split()\n",
    "        if (r[0]==\"REMARK\" and r[2]==\"Normalized\"):\n",
    "            dope = float(r[-1])\n",
    "            break\n",
    "    return dope\n",
    "\n",
    "# list of models\n",
    "models=['BANAL-20-52.B99990001.pdb','BANAL-20-52.B99990002.pdb','BANAL-20-52.B99990003.pdb','BANAL-20-52.B99990004.pdb','BANAL-20-52.B99990005.pdb']\n",
    "\n",
    "# loops on models\n",
    "dps=[]\n",
    "for m in models:\n",
    "    dope = get_DOPE(m)\n",
    "    print(\"MODEL:\", m,  \"Normalized DOPE score:\",dope)\n",
    "    dps.append(dope)"
   ]
  },
  {
   "cell_type": "markdown",
   "id": "6e55a4c7-8aa5-437a-9a31-4d073e0e972c",
   "metadata": {},
   "source": [
    "### Identifying best model"
   ]
  },
  {
   "cell_type": "code",
   "execution_count": null,
   "id": "32bb52cb-790c-48e9-a4dd-312fe566b16c",
   "metadata": {},
   "outputs": [],
   "source": [
    "# best models\n",
    "bd = min(dps)\n",
    "bm = models[dps.index(bd)]\n",
    "print(\"** BEST MODEL:\", bm)"
   ]
  },
  {
   "cell_type": "markdown",
   "id": "2a6dcfd6-8831-4e0c-b2d1-3ade1e1eaa9b",
   "metadata": {},
   "source": [
    "### Plot results"
   ]
  },
  {
   "cell_type": "code",
   "execution_count": null,
   "id": "ec8d65fc-f207-4777-9f39-9d13fe72874d",
   "metadata": {},
   "outputs": [],
   "source": [
    "fig, ax = plt.subplots()\n",
    "\n",
    "ax.bar(range(1,len(models)+1), dps, color=\"b\")\n",
    "ax.bar([dps.index(bd)+1], [bd], color=\"r\")\n",
    "\n",
    "ax.set_ylabel('Normalized DOPE score')\n",
    "\n",
    "plt.show()"
   ]
  },
  {
   "cell_type": "code",
   "execution_count": null,
   "id": "0e9781fd-89af-49c1-9a40-3be93e3a8d4b",
   "metadata": {},
   "outputs": [],
   "source": []
  }
 ],
 "metadata": {
  "kernelspec": {
   "display_name": "Python 3 (ipykernel)",
   "language": "python",
   "name": "python3"
  },
  "language_info": {
   "codemirror_mode": {
    "name": "ipython",
    "version": 3
   },
   "file_extension": ".py",
   "mimetype": "text/x-python",
   "name": "python",
   "nbconvert_exporter": "python",
   "pygments_lexer": "ipython3",
   "version": "3.12.6"
  }
 },
 "nbformat": 4,
 "nbformat_minor": 5
}
