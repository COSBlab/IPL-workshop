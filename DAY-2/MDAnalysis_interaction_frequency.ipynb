{
 "cells": [
  {
   "cell_type": "markdown",
   "id": "f7926bc3-8fa3-46c3-aad0-b840726314f2",
   "metadata": {},
   "source": [
    "# Structural analysis (interaction frequency) with MDAnalysis"
   ]
  },
  {
   "cell_type": "code",
   "execution_count": 2,
   "id": "067383cd-6ef3-4c26-858f-ec161db93099",
   "metadata": {},
   "outputs": [
    {
     "name": "stderr",
     "output_type": "stream",
     "text": [
      "/opt/homebrew/anaconda3/envs/IPL-workshop/lib/python3.12/site-packages/tqdm/auto.py:21: TqdmWarning: IProgress not found. Please update jupyter and ipywidgets. See https://ipywidgets.readthedocs.io/en/stable/user_install.html\n",
      "  from .autonotebook import tqdm as notebook_tqdm\n"
     ]
    }
   ],
   "source": [
    "import matplotlib.pyplot as plt\n",
    "import re\n",
    "import glob\n",
    "import numpy as np\n",
    "import MDAnalysis as mda\n",
    "from MDAnalysis.analysis import distances"
   ]
  },
  {
   "cell_type": "markdown",
   "id": "78df6db0-532c-48eb-81a0-611336dc3938",
   "metadata": {},
   "source": [
    "### First convert models into PDB"
   ]
  },
  {
   "cell_type": "code",
   "execution_count": 3,
   "id": "9f6e557e-023e-4f9f-aab3-9de1e9546800",
   "metadata": {},
   "outputs": [
    {
     "ename": "NameError",
     "evalue": "name 'PDB' is not defined",
     "output_type": "error",
     "traceback": [
      "\u001b[0;31m---------------------------------------------------------------------------\u001b[0m",
      "\u001b[0;31mNameError\u001b[0m                                 Traceback (most recent call last)",
      "Cell \u001b[0;32mIn[3], line 8\u001b[0m\n\u001b[1;32m      6\u001b[0m fpdb\u001b[38;5;241m=\u001b[39mre\u001b[38;5;241m.\u001b[39msub(\u001b[38;5;124m\"\u001b[39m\u001b[38;5;124m.cif\u001b[39m\u001b[38;5;124m\"\u001b[39m,\u001b[38;5;124m\"\u001b[39m\u001b[38;5;124m.pdb\u001b[39m\u001b[38;5;124m\"\u001b[39m,f)\n\u001b[1;32m      7\u001b[0m \u001b[38;5;66;03m# convert to PDB\u001b[39;00m\n\u001b[0;32m----> 8\u001b[0m parser \u001b[38;5;241m=\u001b[39m \u001b[43mPDB\u001b[49m\u001b[38;5;241m.\u001b[39mMMCIFParser()\n\u001b[1;32m      9\u001b[0m structure \u001b[38;5;241m=\u001b[39m parser\u001b[38;5;241m.\u001b[39mget_structure(structure_id\u001b[38;5;241m=\u001b[39m\u001b[38;5;124m\"\u001b[39m\u001b[38;5;124mPDB\u001b[39m\u001b[38;5;124m\"\u001b[39m, filename\u001b[38;5;241m=\u001b[39mf)\n\u001b[1;32m     10\u001b[0m io\u001b[38;5;241m=\u001b[39mPDBIO()\n",
      "\u001b[0;31mNameError\u001b[0m: name 'PDB' is not defined"
     ]
    }
   ],
   "source": [
    "# AF3 models are stored in AF3_models directory as cif files\n",
    "AF3_models=glob.glob(\"AF3_antibody/*.cif\")\n",
    "# convert to PDB\n",
    "for f in AF3_models:\n",
    "    # get PDB file name\n",
    "    fpdb=re.sub(\".cif\",\".pdb\",f)\n",
    "    # convert to PDB\n",
    "    parser = PDB.MMCIFParser()\n",
    "    structure = parser.get_structure(structure_id=\"PDB\", filename=f)\n",
    "    io=PDBIO()\n",
    "    io.set_structure(structure)\n",
    "    io.save(fpdb)"
   ]
  },
  {
   "cell_type": "markdown",
   "id": "deddd3dc-a999-49b7-9c08-dfc373a9a08b",
   "metadata": {},
   "source": [
    "### List of PDBs to analyze"
   ]
  },
  {
   "cell_type": "code",
   "execution_count": null,
   "id": "459c76d5-5b66-4e7d-83e3-d2d30bf8b2f7",
   "metadata": {},
   "outputs": [],
   "source": [
    "# AF3 models are stored in AF3_models directory as pdb files\n",
    "AF3_models=glob.glob(\"AF3_antibody/*.pdb\")"
   ]
  },
  {
   "cell_type": "markdown",
   "id": "9f23cab1-2285-4e71-86de-ebd42d75928e",
   "metadata": {},
   "source": [
    "### Set a reasonable distance cutoff for contact:"
   ]
  },
  {
   "cell_type": "code",
   "execution_count": null,
   "id": "1b396f9b-f672-4c06-931b-88add01f318c",
   "metadata": {},
   "outputs": [],
   "source": [
    "distance_cutoff = 8.0"
   ]
  },
  {
   "cell_type": "markdown",
   "id": "27ddc62e-93b1-4838-a692-b39c1913c643",
   "metadata": {},
   "source": [
    "### For each model, identify interfacial residues"
   ]
  },
  {
   "cell_type": "code",
   "execution_count": null,
   "id": "e3dd3eb2-b190-4179-ab15-939ee2804644",
   "metadata": {},
   "outputs": [],
   "source": [
    "# prepare dictionary\n",
    "contacts={}\n",
    "# loop over models\n",
    "for PDB_ in AF3_models:\n",
    "    # create universe\n",
    "    u = mda.Universe(PDB_)\n",
    "    # get all CA atoms\n",
    "    CA_atoms = u.select_atoms('name CA')\n",
    "    # get the CA atoms of spike and from the antibody Fab domain. You must edit the chains that must be selected if necessary\n",
    "    spike_CA = CA_atoms.select_atoms('chainID A')\n",
    "    # get the CA atoms of the antibody Fab domain. This all the other chains wrt to the spike chain\n",
    "    antibody_CA = CA_atoms.select_atoms('not chainID A')\n",
    "    # calculate distance matrix\n",
    "    distance_matrix = distances.distance_array(spike_CA, antibody_CA)\n",
    "    # identify contacts\n",
    "    ids = np.where(distance_matrix < distance_cutoff)\n",
    "    # contact residues\n",
    "    contacts[PDB_] = sorted(list(set(ids[0])))"
   ]
  },
  {
   "cell_type": "markdown",
   "id": "d9a3af29-2a27-4314-9093-e3977c90aeb7",
   "metadata": {},
   "source": [
    "### Create a PDB file with only spike and interaction information in Bfactor column"
   ]
  },
  {
   "cell_type": "code",
   "execution_count": null,
   "id": "ad2de9b1-eb83-442d-b77d-11534f9da38d",
   "metadata": {},
   "outputs": [],
   "source": [
    "# use last universe: set all the bfactors to zero\n",
    "atoms = u.select_atoms('chainID A')\n",
    "for at in atoms:\n",
    "    at.tempfactor = 0.0\n",
    "# set bfactor equal to residue contact probability\n",
    "for key in contacts:\n",
    "    for id in contacts[key]:\n",
    "        r = spike_CA[id].residue\n",
    "        for at in r.atoms:\n",
    "            at.tempfactor += 1.0\n",
    "# normalize\n",
    "for at in atoms:\n",
    "    at.tempfactor /= float(len(AF3_models))\n",
    "# save PDB file\n",
    "atoms.write(\"spike_contacts.pdb\")"
   ]
  }
 ],
 "metadata": {
  "kernelspec": {
   "display_name": "Python 3 (ipykernel)",
   "language": "python",
   "name": "python3"
  },
  "language_info": {
   "codemirror_mode": {
    "name": "ipython",
    "version": 3
   },
   "file_extension": ".py",
   "mimetype": "text/x-python",
   "name": "python",
   "nbconvert_exporter": "python",
   "pygments_lexer": "ipython3",
   "version": "3.12.6"
  }
 },
 "nbformat": 4,
 "nbformat_minor": 5
}
