{
 "cells": [
  {
   "cell_type": "code",
   "execution_count": null,
   "id": "912fed96-bf84-4990-9d1a-fd6491ff2df8",
   "metadata": {},
   "outputs": [],
   "source": [
    "import matplotlib.pyplot as plt\n",
    "import glob\n",
    "import re\n",
    "import os\n",
    "import sys\n",
    "from Bio import PDB\n",
    "from Bio.PDB.PDBIO import PDBIO\n",
    "from Bio.PDB.StructureBuilder import StructureBuilder\n",
    "import MDAnalysis as mda\n",
    "import numpy as np"
   ]
  },
  {
   "cell_type": "markdown",
   "id": "099bff30-5288-4ffd-b753-8e25dd69140a",
   "metadata": {},
   "source": [
    "### First convert AF3 models from CIF to PDB"
   ]
  },
  {
   "cell_type": "code",
   "execution_count": null,
   "id": "5edcc759-23f0-4bd6-9619-50aa2177b233",
   "metadata": {},
   "outputs": [],
   "source": [
    "# AF3 models are stored in AF3_models directory as cif files\n",
    "AF3_models=glob.glob(\"AF3_models*/*.cif\")\n",
    "# convert to PDB\n",
    "for f in AF3_models:\n",
    "    # get PDB file name\n",
    "    fpdb=re.sub(\".cif\",\".pdb\",f)\n",
    "    # convert to PDB\n",
    "    parser = PDB.MMCIFParser()\n",
    "    structure = parser.get_structure(structure_id=\"PDB\", filename=f)\n",
    "    io=PDBIO()\n",
    "    io.set_structure(structure)\n",
    "    io.save(fpdb)"
   ]
  },
  {
   "cell_type": "markdown",
   "id": "2a6dcfd6-8831-4e0c-b2d1-3ade1e1eaa9b",
   "metadata": {},
   "source": [
    "### run FoldX on AF3 models"
   ]
  },
  {
   "cell_type": "code",
   "execution_count": null,
   "id": "ec8d65fc-f207-4777-9f39-9d13fe72874d",
   "metadata": {},
   "outputs": [],
   "source": [
    "#\n",
    "# location of foldx binary\n",
    "foldx_=\"/Users/max/bin/foldx5_1Mac_0/foldx_20241231\"\n",
    "#\n",
    "# extract binding energy from FoldX output\n",
    "def get_binding(m, f):\n",
    "    for lines in open(f, \"r\").readlines():\n",
    "        r = lines.strip().split()\n",
    "        if(len(r)>0 and r[0]==m): be = float(r[5])\n",
    "    return be\n",
    "#\n",
    "# binding energy dictionary\n",
    "be = {}\n",
    "# AF3 models in pdb FORMAT\n",
    "AF3_models=glob.glob(\"AF3_models*/*.pdb\")\n",
    "# run FoldX\n",
    "for m in AF3_models:\n",
    "    # get directory\n",
    "    d = m.split(\"/\")[0]\n",
    "    # get filename\n",
    "    f = m.split(\"/\")[1]\n",
    "    # repair PDB to fix clashes\n",
    "    os.system(foldx_+\" --command=RepairPDB --repair_Interface=ONLY --pdb=\"+f+\" --pdb-dir=\"+d+\" --output-dir=\"+d+\" 1>/dev/null\")\n",
    "    # name of repaired pdb\n",
    "    f =re.sub(\".pdb\",\"_Repair.pdb\",f)\n",
    "    # run command on repaired PDB - assuming viral protein chain A, antibody chain B and C\n",
    "    os.system(foldx_+\" --command=AnalyseComplex --pdb=\"+f+\" --analyseComplexChains=A,BC --complexWithDNA=false --output-file=foldX_out clean-mode --pdb-dir=\"+d+\" --output-dir=\"+d+\" 1>/dev/null\")   \n",
    "    # extract binding energy\n",
    "    be[m] = get_binding(d+\"/\"+f, d+\"/Summary_foldX_out_AC.fxout\")"
   ]
  },
  {
   "cell_type": "markdown",
   "id": "5c379a88-e3df-4d74-bcb1-c7d28c40cca8",
   "metadata": {},
   "source": [
    "### Bar plot with binding energy"
   ]
  },
  {
   "cell_type": "code",
   "execution_count": null,
   "id": "bb987227-9003-4578-8fa6-38e7d38c1fe6",
   "metadata": {},
   "outputs": [],
   "source": [
    "# make bar plot\n",
    "fig, ax = plt.subplots()\n",
    "# loop over models\n",
    "for i,m in enumerate(sorted(AF3_models)):\n",
    "    ax.bar([i+1], [be[m]], label=m)\n",
    "# set labels\n",
    "ax.set_xlabel('Model')\n",
    "ax.set_ylabel('Binding energy')\n",
    "ax.legend(loc=\"upper left\", fontsize=8, ncol=1)\n",
    "plt.show()"
   ]
  },
  {
   "cell_type": "code",
   "execution_count": null,
   "id": "b6f296fb-1df8-4b6f-bd47-1eb3afddd987",
   "metadata": {},
   "outputs": [],
   "source": []
  }
 ],
 "metadata": {
  "kernelspec": {
   "display_name": "Python 3 (ipykernel)",
   "language": "python",
   "name": "python3"
  },
  "language_info": {
   "codemirror_mode": {
    "name": "ipython",
    "version": 3
   },
   "file_extension": ".py",
   "mimetype": "text/x-python",
   "name": "python",
   "nbconvert_exporter": "python",
   "pygments_lexer": "ipython3",
   "version": "3.12.6"
  }
 },
 "nbformat": 4,
 "nbformat_minor": 5
}
