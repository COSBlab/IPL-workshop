{
 "cells": [
  {
   "cell_type": "code",
   "execution_count": null,
   "id": "912fed96-bf84-4990-9d1a-fd6491ff2df8",
   "metadata": {},
   "outputs": [],
   "source": [
    "import json"
   ]
  },
  {
   "cell_type": "markdown",
   "id": "099bff30-5288-4ffd-b753-8e25dd69140a",
   "metadata": {},
   "source": [
    "### Read Foldseek json file"
   ]
  },
  {
   "cell_type": "code",
   "execution_count": null,
   "id": "5edcc759-23f0-4bd6-9619-50aa2177b233",
   "metadata": {},
   "outputs": [],
   "source": [
    "FS_=\"Foldseek_2024_09_14_20_03_36.json\"\n",
    "# filtering criteria for metrics TM-align only\n",
    "TM_cut = 0.9\n",
    "# print header\n",
    "print(\"%20s %50s %4s %4s %4s %3s\" % (\"PDB\", \"Description\", \"Prob\", \"SeqID\", \"TM-s\", \"Score\"))\n",
    "print()\n",
    "with open(FS_) as f:\n",
    "    # read line\n",
    "    d = json.load(f)\n",
    "    # alignments\n",
    "    ali = d[0]['results'][0]['alignments']\n",
    "    # loop over keys\n",
    "    for key in ali:\n",
    "        # PDB name\n",
    "        pdb = ali[key][0]['target']\n",
    "        # sequence identify\n",
    "        seqi = ali[key][0]['seqId']\n",
    "        # description\n",
    "        de = ali[key][0]['description'][:50]\n",
    "        # TM score\n",
    "        TM = float(ali[key][0]['eval'])\n",
    "        if(TM<TM_cut): continue\n",
    "        # probability\n",
    "        p = float(ali[key][0]['prob'])\n",
    "        # score\n",
    "        score = float(ali[key][0]['score'])\n",
    "        # print stuff\n",
    "        print(\"%20s %50s %4.3lf %4.1lf %4.3lf %3.1lf\" % (pdb, de, p, seqi, TM , score))"
   ]
  }
 ],
 "metadata": {
  "kernelspec": {
   "display_name": "Python 3 (ipykernel)",
   "language": "python",
   "name": "python3"
  },
  "language_info": {
   "codemirror_mode": {
    "name": "ipython",
    "version": 3
   },
   "file_extension": ".py",
   "mimetype": "text/x-python",
   "name": "python",
   "nbconvert_exporter": "python",
   "pygments_lexer": "ipython3",
   "version": "3.12.6"
  }
 },
 "nbformat": 4,
 "nbformat_minor": 5
}
