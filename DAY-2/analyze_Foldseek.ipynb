{
 "cells": [
  {
   "cell_type": "code",
   "execution_count": null,
   "id": "912fed96-bf84-4990-9d1a-fd6491ff2df8",
   "metadata": {},
   "outputs": [],
   "source": [
    "import matplotlib.pyplot as plt\n",
    "import glob\n",
    "import re\n",
    "from Bio import PDB\n",
    "from Bio.PDB.PDBIO import PDBIO\n",
    "from Bio.PDB.StructureBuilder import StructureBuilder\n",
    "import MDAnalysis as mda\n",
    "import numpy as np"
   ]
  },
  {
   "cell_type": "markdown",
   "id": "099bff30-5288-4ffd-b753-8e25dd69140a",
   "metadata": {},
   "source": [
    "### First convert AF3 models from CIF to PDB"
   ]
  },
  {
   "cell_type": "code",
   "execution_count": null,
   "id": "5edcc759-23f0-4bd6-9619-50aa2177b233",
   "metadata": {},
   "outputs": [],
   "source": [
    "# AF3 models are stored in AF3_models directory as cif files\n",
    "AF3_models=glob.glob(\"AF3_models/*.cif\")\n",
    "# convert to PDB\n",
    "for f in AF3_models:\n",
    "    # get PDB file name\n",
    "    fpdb=re.sub(\".cif\",\".pdb\",f)\n",
    "    # convert to PDB\n",
    "    parser = PDB.MMCIFParser()\n",
    "    structure = parser.get_structure(structure_id=\"PDB\", filename=f)\n",
    "    io=PDBIO()\n",
    "    io.set_structure(structure)\n",
    "    io.save(fpdb)"
   ]
  },
  {
   "cell_type": "markdown",
   "id": "6e55a4c7-8aa5-437a-9a31-4d073e0e972c",
   "metadata": {},
   "source": [
    "### Load AF3 and AF2 models (PDB format)"
   ]
  },
  {
   "cell_type": "code",
   "execution_count": null,
   "id": "32bb52cb-790c-48e9-a4dd-312fe566b16c",
   "metadata": {},
   "outputs": [],
   "source": [
    "AF3_models=glob.glob(\"AF3_models/*.pdb\")\n",
    "# AF2 models are stored in AF2_models directory as pdb files\n",
    "AF2_models=glob.glob(\"AF2_models/*.pdb\")\n",
    "# merge all\n",
    "AF_models=AF2_models+AF3_models"
   ]
  },
  {
   "cell_type": "markdown",
   "id": "2a6dcfd6-8831-4e0c-b2d1-3ade1e1eaa9b",
   "metadata": {},
   "source": [
    "### Extract per-residue pLDDT"
   ]
  },
  {
   "cell_type": "code",
   "execution_count": null,
   "id": "ec8d65fc-f207-4777-9f39-9d13fe72874d",
   "metadata": {},
   "outputs": [],
   "source": [
    "# prepare dictionary\n",
    "pLDDT={}\n",
    "for m in AF_models:\n",
    "    pLDDT[m]=[]\n",
    "    # read Bfactors where pLDDT is stored\n",
    "    u = mda.Universe(m)\n",
    "    # get Bfactors\n",
    "    at_CA = u.select_atoms(\"name CA\")\n",
    "    pLDDT[m] = [ a.tempfactor for a in at_CA ]"
   ]
  },
  {
   "cell_type": "markdown",
   "id": "5c379a88-e3df-4d74-bcb1-c7d28c40cca8",
   "metadata": {},
   "source": [
    "### Plot per-residue pLDDT across all models"
   ]
  },
  {
   "cell_type": "code",
   "execution_count": null,
   "id": "bb987227-9003-4578-8fa6-38e7d38c1fe6",
   "metadata": {},
   "outputs": [],
   "source": [
    "# plot confidence ranges\n",
    "plt.axhline(y = 90, color = 'b', linestyle = '--')\n",
    "plt.axhline(y = 70, color = 'c', linestyle = '--') \n",
    "plt.axhline(y = 50, color = 'y', linestyle = '--') \n",
    "for key in pLDDT:\n",
    "    l=re.sub(\".pdb\",\"\",key)\n",
    "    plt.plot(pLDDT[key], '-', label=l)\n",
    "plt.xlabel('Residue ID')\n",
    "plt.ylabel('pLDDT')\n",
    "plt.legend(fontsize=6, frameon=False, ncols=2, loc=\"lower left\")"
   ]
  }
 ],
 "metadata": {
  "kernelspec": {
   "display_name": "Python 3 (ipykernel)",
   "language": "python",
   "name": "python3"
  },
  "language_info": {
   "codemirror_mode": {
    "name": "ipython",
    "version": 3
   },
   "file_extension": ".py",
   "mimetype": "text/x-python",
   "name": "python",
   "nbconvert_exporter": "python",
   "pygments_lexer": "ipython3",
   "version": "3.12.6"
  }
 },
 "nbformat": 4,
 "nbformat_minor": 5
}
