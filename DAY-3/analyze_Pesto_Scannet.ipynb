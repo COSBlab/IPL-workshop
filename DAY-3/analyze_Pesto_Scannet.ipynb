{
 "cells": [
  {
   "cell_type": "code",
   "execution_count": null,
   "id": "912fed96-bf84-4990-9d1a-fd6491ff2df8",
   "metadata": {},
   "outputs": [],
   "source": [
    "import matplotlib.pyplot as plt\n",
    "import glob\n",
    "import re\n",
    "from Bio import PDB\n",
    "from Bio.PDB.PDBIO import PDBIO\n",
    "from Bio.PDB.StructureBuilder import StructureBuilder\n",
    "import MDAnalysis as mda\n",
    "import numpy as np\n",
    "from MDAnalysis.analysis import distances"
   ]
  },
  {
   "cell_type": "markdown",
   "id": "6e55a4c7-8aa5-437a-9a31-4d073e0e972c",
   "metadata": {},
   "source": [
    "### Load Pesto and Scannet models (PDB format)"
   ]
  },
  {
   "cell_type": "code",
   "execution_count": null,
   "id": "32bb52cb-790c-48e9-a4dd-312fe566b16c",
   "metadata": {},
   "outputs": [],
   "source": [
    "Pesto_Scannet=[\"PeSTo/ea3169_interface_protein.pdb\", \"ScanNet/annotated_fold_banal_20_52_model_0.pdb\"]"
   ]
  },
  {
   "cell_type": "markdown",
   "id": "2a6dcfd6-8831-4e0c-b2d1-3ade1e1eaa9b",
   "metadata": {},
   "source": [
    "### Extract PPI score"
   ]
  },
  {
   "cell_type": "code",
   "execution_count": null,
   "id": "ec8d65fc-f207-4777-9f39-9d13fe72874d",
   "metadata": {},
   "outputs": [],
   "source": [
    "# prepare dictionary\n",
    "PPI={}\n",
    "for m in Pesto_Scannet:\n",
    "    PPI[m]=[]\n",
    "    # read Bfactors where PPI score is stored\n",
    "    u = mda.Universe(m)\n",
    "    # get Bfactors\n",
    "    at_CA = u.select_atoms(\"name CA\")\n",
    "    PPI[m] = [ a.tempfactor for a in at_CA ]"
   ]
  },
  {
   "cell_type": "markdown",
   "id": "0c33278e-0906-4032-aa29-e7b83eb4cbd3",
   "metadata": {},
   "source": [
    "### extract contacts from PDB"
   ]
  },
  {
   "cell_type": "code",
   "execution_count": null,
   "id": "abe03107-ae52-4144-a158-dbb2664ba0cb",
   "metadata": {},
   "outputs": [],
   "source": [
    "PDB_ = \"AF3_model.pdb\"\n",
    "u = mda.Universe(PDB_)\n",
    "# get all CA atoms\n",
    "CA_atoms = u.select_atoms('name CA')\n",
    "\n",
    "# get the CA atoms of spike and from the antibody Fab domain. You must edit the chains that must be selected if necessary\n",
    "spike_CA = CA_atoms.select_atoms('chainID A')\n",
    "# get the CA atoms of the antibody Fab domain. This all the other chains wrt to the spike chain\n",
    "antibody_CA = CA_atoms.select_atoms('not chainID A')\n",
    "\n",
    "print(\"spike number of residues: {}\".format(len(spike_CA)))\n",
    "print(\"antibody number of residues: {}\".format(len(antibody_CA)))\n",
    "# calculate distance matrix\n",
    "distance_matrix = distances.distance_array(spike_CA, antibody_CA)\n",
    "# set cutoff\n",
    "distance_cutoff = 8.0\n",
    "# identify contacts\n",
    "ids = np.where(distance_matrix < distance_cutoff)\n",
    "# contact residues\n",
    "contacts = sorted(list(set(ids[0])))\n",
    "print(contacts)"
   ]
  },
  {
   "cell_type": "markdown",
   "id": "5c379a88-e3df-4d74-bcb1-c7d28c40cca8",
   "metadata": {},
   "source": [
    "### Plot per-residue PPI score and actual contacts in PDB"
   ]
  },
  {
   "cell_type": "code",
   "execution_count": null,
   "id": "bb987227-9003-4578-8fa6-38e7d38c1fe6",
   "metadata": {},
   "outputs": [],
   "source": [
    "# plot predictions\n",
    "for key in PPI:\n",
    "    l=re.sub(\".pdb\",\"\",key)\n",
    "    plt.plot(PPI[key], '-', label=l)\n",
    "# plot real contacts\n",
    "for c in contacts:\n",
    "    plt.axvline(c, 0, 1, color=\"grey\", linestyle=\"--\")\n",
    "plt.xlabel('Residue ID')\n",
    "plt.ylabel('PPI score')\n",
    "plt.legend(fontsize=8, frameon=False, ncols=1, loc=\"upper right\")\n",
    "plt.show()"
   ]
  }
 ],
 "metadata": {
  "kernelspec": {
   "display_name": "Python 3 (ipykernel)",
   "language": "python",
   "name": "python3"
  },
  "language_info": {
   "codemirror_mode": {
    "name": "ipython",
    "version": 3
   },
   "file_extension": ".py",
   "mimetype": "text/x-python",
   "name": "python",
   "nbconvert_exporter": "python",
   "pygments_lexer": "ipython3",
   "version": "3.12.6"
  }
 },
 "nbformat": 4,
 "nbformat_minor": 5
}
