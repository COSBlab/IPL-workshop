{
 "cells": [
  {
   "cell_type": "code",
   "execution_count": null,
   "id": "912fed96-bf84-4990-9d1a-fd6491ff2df8",
   "metadata": {},
   "outputs": [],
   "source": [
    "import matplotlib.pyplot as plt\n",
    "import glob\n",
    "import re\n",
    "import MDAnalysis as mda\n",
    "import numpy as np\n",
    "from MDAnalysis.analysis import distances"
   ]
  },
  {
   "cell_type": "markdown",
   "id": "6e55a4c7-8aa5-437a-9a31-4d073e0e972c",
   "metadata": {},
   "source": [
    "### Load Pesto and Scannet models (PDB format)"
   ]
  },
  {
   "cell_type": "code",
   "execution_count": null,
   "id": "32bb52cb-790c-48e9-a4dd-312fe566b16c",
   "metadata": {},
   "outputs": [],
   "source": [
    "Pesto_Scannet =  [\"PeSTo/ea3169_interface_protein.pdb\"]\n",
    "Pesto_Scannet += [\"ScanNet/annotated_fold_banal_20_52_model_0.pdb\"]"
   ]
  },
  {
   "cell_type": "markdown",
   "id": "9900c6ad-149d-4d38-bf03-c1cc14dd19f9",
   "metadata": {},
   "source": [
    "### Add AF3 results (frequency of contact)"
   ]
  },
  {
   "cell_type": "code",
   "execution_count": null,
   "id": "1d1d97ba-f875-4f04-ac39-4b9e41ab9461",
   "metadata": {},
   "outputs": [],
   "source": [
    "Pesto_Scannet += [\"AF3_models/spike_contacts.pdb\"]"
   ]
  },
  {
   "cell_type": "markdown",
   "id": "2a6dcfd6-8831-4e0c-b2d1-3ade1e1eaa9b",
   "metadata": {},
   "source": [
    "### Extract PPI score"
   ]
  },
  {
   "cell_type": "code",
   "execution_count": null,
   "id": "ec8d65fc-f207-4777-9f39-9d13fe72874d",
   "metadata": {},
   "outputs": [],
   "source": [
    "# prepare dictionary\n",
    "PPI={}\n",
    "for m in Pesto_Scannet:\n",
    "    PPI[m]=[]\n",
    "    # read Bfactors where PPI score is stored\n",
    "    u = mda.Universe(m)\n",
    "    # get Bfactors\n",
    "    at_CA = u.select_atoms(\"name CA\")\n",
    "    PPI[m] = [ a.tempfactor for a in at_CA ]"
   ]
  },
  {
   "cell_type": "markdown",
   "id": "5c379a88-e3df-4d74-bcb1-c7d28c40cca8",
   "metadata": {},
   "source": [
    "### Plot per-residue PPI score and contact frequency in AF3 models"
   ]
  },
  {
   "cell_type": "code",
   "execution_count": null,
   "id": "bb987227-9003-4578-8fa6-38e7d38c1fe6",
   "metadata": {},
   "outputs": [],
   "source": [
    "# plot predictions\n",
    "for key in PPI:\n",
    "    l=re.sub(\".pdb\",\"\",key)\n",
    "    plt.plot(PPI[key], '-', label=l)\n",
    "\n",
    "plt.xlabel('Residue ID')\n",
    "plt.ylabel('PPI score/contact frequency')\n",
    "plt.legend(fontsize=10, frameon=False, ncols=1, loc=\"upper left\")\n",
    "plt.show()"
   ]
  }
 ],
 "metadata": {
  "kernelspec": {
   "display_name": "Python 3 (ipykernel)",
   "language": "python",
   "name": "python3"
  },
  "language_info": {
   "codemirror_mode": {
    "name": "ipython",
    "version": 3
   },
   "file_extension": ".py",
   "mimetype": "text/x-python",
   "name": "python",
   "nbconvert_exporter": "python",
   "pygments_lexer": "ipython3",
   "version": "3.12.6"
  }
 },
 "nbformat": 4,
 "nbformat_minor": 5
}
