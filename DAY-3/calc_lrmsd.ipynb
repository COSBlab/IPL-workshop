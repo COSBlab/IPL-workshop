{
 "cells": [
  {
   "cell_type": "markdown",
   "id": "7c83c211-7b0a-4280-b44a-20bd7fcd5c44",
   "metadata": {},
   "source": [
    "# ligand-RMSD calculation\n",
    "### If PyMOL crashes upon usin the rms_cur command, you can save the aligned models in pdb and execute this notebook."
   ]
  },
  {
   "cell_type": "markdown",
   "id": "8a007d72-c6d7-4cd5-b725-7f15577c8551",
   "metadata": {},
   "source": [
    "#### Once you aligned all the antigens of the model clusters with the antigen of 4G6M-matched on PyMOL:\n",
    "* Go to file, export molecule.\n",
    "* In selection, choose \"enabled\". This will sav all the models currently open and visible in the session.\n",
    "* In Multi-File, choose \"one file per object\", and write {name}_aligned_pymol in the box.\n",
    "* Then uncheck the box \"Prompt for every file\" and click on \"save\" (the rest is left default).\n",
    "* After clicking \"save\", a new window opens. In \"Files of type\", choose \"PDB (*.pdb *.pdb.gz)\" and click \"save\"."
   ]
  },
  {
   "cell_type": "code",
   "execution_count": 3,
   "id": "c291c09f-4337-4169-9ec0-373976629128",
   "metadata": {},
   "outputs": [],
   "source": [
    "import numpy as np\n",
    "import MDAnalysis as mda\n",
    "from MDAnalysis.analysis.rms import rmsd\n",
    "\n",
    "\n",
    "def calc_rmsd(u1, u2, chain):\n",
    "    atoms_u1 = u1.select_atoms('chainID {} and not element H'.format(chain))\n",
    "    atoms_u2 = u2.select_atoms('chainID {} and not element H'.format(chain))\n",
    "    return rmsd(atoms_u1.positions, atoms_u2.positions)\n",
    "\n",
    "\n"
   ]
  },
  {
   "cell_type": "code",
   "execution_count": 4,
   "id": "3d9e2949-1f33-4749-b3cd-8fc447255c43",
   "metadata": {},
   "outputs": [],
   "source": [
    "u_ref = mda.Universe(\"4G6M-matched_aligned_pymol.pdb\")\n",
    "u_haddock_cluster5 = mda.Universe(\"cluster5_1_aligned_pymol.pdb\")\n",
    "u_haddock_cluster4 = mda.Universe(\"cluster4_1_aligned_pymol.pdb\")\n",
    "u_haddock_cluster3 = mda.Universe(\"cluster3_1_aligned_pymol.pdb\")\n",
    "u_haddock_cluster2 = mda.Universe(\"cluster2_1_aligned_pymol.pdb\")\n",
    "u_haddock_cluster1 = mda.Universe(\"cluster1_1_aligned_pymol.pdb\")"
   ]
  },
  {
   "cell_type": "code",
   "execution_count": 5,
   "id": "41c4c9bf-94aa-4e63-9759-d318493ac373",
   "metadata": {},
   "outputs": [],
   "source": [
    "rmsd_cluster1 = calc_rmsd(u_ref, u_haddock_cluster1, 'B')\n",
    "rmsd_cluster2 = calc_rmsd(u_ref, u_haddock_cluster2, 'B')\n",
    "rmsd_cluster3 = calc_rmsd(u_ref, u_haddock_cluster3, 'B')\n",
    "rmsd_cluster4 = calc_rmsd(u_ref, u_haddock_cluster4, 'B')\n",
    "rmsd_cluster5 = calc_rmsd(u_ref, u_haddock_cluster5, 'B')"
   ]
  },
  {
   "cell_type": "code",
   "execution_count": 7,
   "id": "7d3f68b4-fce0-4909-8695-f2591b67d6a4",
   "metadata": {},
   "outputs": [],
   "source": [
    "print(\"RMSD cluster {}: {}\".format(1, rmsd_cluster1))\n",
    "print(\"RMSD cluster {}: {}\".format(2, rmsd_cluster2))\n",
    "print(\"RMSD cluster {}: {}\".format(3, rmsd_cluster3))\n",
    "print(\"RMSD cluster {}: {}\".format(4, rmsd_cluster4))\n",
    "print(\"RMSD cluster {}: {}\".format(5, rmsd_cluster5))"
   ]
  },
  {
   "cell_type": "code",
   "execution_count": 8,
   "id": "b212ec9a-21c4-4e53-a06a-31b1cd535675",
   "metadata": {},
   "outputs": [],
   "source": [
    "import matplotlib.pyplot as plt"
   ]
  },
  {
   "cell_type": "code",
   "execution_count": 16,
   "id": "515c57c5-b6ac-4692-ac74-a401098a446d",
   "metadata": {},
   "outputs": [],
   "source": [
    "fig, ax = plt.subplots(1, 1, figsize=(10, 6))\n",
    "\n",
    "ax.bar([1, 2, 3, 4, 5], [rmsd_cluster1, rmsd_cluster2, rmsd_cluster3, rmsd_cluster4, rmsd_cluster5], color=\"dodgerblue\")\n",
    "ax.plot([0.5, 5.5], [10, 10], ls=\"--\", color=\"black\")\n",
    "ax.set_xlabel(\"Cluster nb\")\n",
    "ax.set_ylabel(\"l-RMSD (Angstroms)\")\n",
    "ax.set_xlim(0.5, 5.5)"
   ]
  },
  {
   "cell_type": "code",
   "execution_count": null,
   "id": "60415dc1-199b-4b96-9c47-033b0d74c11d",
   "metadata": {},
   "outputs": [],
   "source": []
  }
 ],
 "metadata": {
  "kernelspec": {
   "display_name": "Python 3 (ipykernel)",
   "language": "python",
   "name": "python3"
  },
  "language_info": {
   "codemirror_mode": {
    "name": "ipython",
    "version": 3
   },
   "file_extension": ".py",
   "mimetype": "text/x-python",
   "name": "python",
   "nbconvert_exporter": "python",
   "pygments_lexer": "ipython3",
   "version": "3.11.7"
  }
 },
 "nbformat": 4,
 "nbformat_minor": 5
}
