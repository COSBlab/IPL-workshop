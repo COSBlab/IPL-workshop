{
 "cells": [
  {
   "cell_type": "markdown",
   "id": "f7926bc3-8fa3-46c3-aad0-b840726314f2",
   "metadata": {},
   "source": [
    "# MDAnalysis of the AF3 model of the Dimer capsid bound to the 8PMX Fab domain"
   ]
  },
  {
   "cell_type": "code",
   "execution_count": 1,
   "id": "067383cd-6ef3-4c26-858f-ec161db93099",
   "metadata": {},
   "outputs": [],
   "source": [
    "import numpy as np\n",
    "import MDAnalysis as mda\n",
    "from MDAnalysis.analysis import distances\n",
    "from Bio import PDB\n",
    "from Bio.PDB.PDBIO import PDBIO\n",
    "from Bio.PDB.StructureBuilder import StructureBuilder"
   ]
  },
  {
   "cell_type": "markdown",
   "id": "b3d263cb-2591-481e-856e-3577f4602165",
   "metadata": {},
   "source": [
    "### Convert the cif file into pdb"
   ]
  },
  {
   "cell_type": "code",
   "execution_count": 2,
   "id": "0490da63-56f0-4e4d-b33f-ce6090286516",
   "metadata": {},
   "outputs": [],
   "source": [
    "parser = PDB.MMCIFParser()\n",
    "structure = parser.get_structure(structure_id=\"test\", filename=\"AF_model.cif\")\n",
    "\n",
    "io=PDBIO()\n",
    "io.set_structure(structure)\n",
    "io.save(\"AF3_model1.pdb\")"
   ]
  },
  {
   "cell_type": "markdown",
   "id": "deddd3dc-a999-49b7-9c08-dfc373a9a08b",
   "metadata": {},
   "source": [
    "### Read the pdb in MDAnalysis"
   ]
  },
  {
   "cell_type": "code",
   "execution_count": 3,
   "id": "459c76d5-5b66-4e7d-83e3-d2d30bf8b2f7",
   "metadata": {},
   "outputs": [],
   "source": [
    "u = mda.Universe(\"AF3_model1.pdb\", \"AF3_model1.pdb\")"
   ]
  },
  {
   "cell_type": "markdown",
   "id": "27ddc62e-93b1-4838-a692-b39c1913c643",
   "metadata": {},
   "source": [
    "### Select the atoms for distance calculation\n",
    "##### We will select carbon alphas of the capsid and of the antibody"
   ]
  },
  {
   "cell_type": "code",
   "execution_count": 10,
   "id": "e3dd3eb2-b190-4179-ab15-939ee2804644",
   "metadata": {},
   "outputs": [],
   "source": [
    "# get all the atoms\n",
    "capsid_atoms = u.select_atoms('all')\n",
    "\n",
    "# get the CA atoms from the capsid and from the antibody Fab domain. You must edit the chains that must be selected if necessary\n",
    "capsid_CA = u.select_atoms('name CA and chainID A B')\n",
    "antibody_CA = u.select_atoms('name CA and chainID C D')\n",
    "\n",
    "print(\"capsid number of residues: {}\".format(len([el.resid for el in capsid_CA])))\n",
    "print(\"antibody number of residues: {}\".format(len([el.resid for el in antibody_CA])))\n",
    "\n",
    "# get more detailed info (useful later)\n",
    "\n",
    "capsid_chainIDs = [el.chainID for el in capsid_CA]\n",
    "capsid_res_nbs = [el.resid for el in capsid_CA]\n",
    "capsid_resnames_dict = {el.resid: el.resname for el in capsid_CA}\n",
    "\n",
    "# get the list of the capsid chains\n",
    "capsid_chains = list(set(capsid_chainIDs))\n",
    "\n",
    "# Make the dictionnary for building the PDB file with the contacts in the bfactor column (in the visualization PDB making last)\n",
    "capsid_atoms_dict = {chain: {resnb: [el for el in capsid_atoms if el.chainID == chain and el.resid == resnb] for resnb in capsid_res_nbs} for chain in capsid_chains}"
   ]
  },
  {
   "cell_type": "markdown",
   "id": "ffa4839f-2790-4c9d-947f-3e484a5f68c1",
   "metadata": {},
   "source": [
    "### Calculate the distance matrix between these two selections"
   ]
  },
  {
   "cell_type": "code",
   "execution_count": 6,
   "id": "30458724-dace-49d9-b4d1-6c9d61bc5062",
   "metadata": {},
   "outputs": [],
   "source": [
    "distance_matrix = distances.distance_array(capsid_CA, antibody_CA)\n",
    "print(distance_matrix.shape)"
   ]
  },
  {
   "cell_type": "markdown",
   "id": "9f23cab1-2285-4e71-86de-ebd42d75928e",
   "metadata": {},
   "source": [
    "### set a reasonable distance cutoff for contact:"
   ]
  },
  {
   "cell_type": "code",
   "execution_count": 7,
   "id": "1b396f9b-f672-4c06-931b-88add01f318c",
   "metadata": {},
   "outputs": [],
   "source": [
    "distance_cutoff = 8.0"
   ]
  },
  {
   "cell_type": "markdown",
   "id": "ebb41d30-e56c-496c-9a96-c36f624b9839",
   "metadata": {},
   "source": [
    "### Identify the contacts"
   ]
  },
  {
   "cell_type": "code",
   "execution_count": 8,
   "id": "870b3259-25a7-42ab-a606-a5b6c326db68",
   "metadata": {},
   "outputs": [],
   "source": [
    "contacts = np.zeros((len(capsid_res_nbs)))\n",
    "for i, el in enumerate(capsid_res_nbs):\n",
    "    for j in range(distance_matrix.shape[1]):\n",
    "        if distance_matrix[i][j] < distance_cutoff:\n",
    "            contacts[i] = 1\n",
    "            break\n",
    "\n",
    "# We now have contact list in the same order as the other lists.\n",
    "# Make a dictionnary associating the residue number with the presence of contacts or not: (resnb, chain) -> contact\n",
    "contact_dict = {(el, capsid_chainIDs[i]): contacts[i] for i, el in enumerate(capsid_res_nbs)}\n",
    "\n",
    "\n",
    "print(\"{} residues were found at the interation surface with the antibody\".format(np.sum(contacts)))"
   ]
  },
  {
   "cell_type": "markdown",
   "id": "283068de-0acc-4d52-b52f-07ef729232a1",
   "metadata": {},
   "source": [
    "### save the contact list in the bfactor column of a pdb file for visualisation:"
   ]
  },
  {
   "cell_type": "code",
   "execution_count": 9,
   "id": "845a0a38-5e66-423f-a215-b277db26e7f0",
   "metadata": {},
   "outputs": [],
   "source": [
    "output_name = \"AF_model1_withcontacts.pdb\"\n",
    "\n",
    "out_structure_builder = StructureBuilder()\n",
    "out_structure_builder.init_structure(structure_id=\"out\")\n",
    "out_structure_builder.init_model(model_id=\"test\")\n",
    "for chain in capsid_atoms_dict.keys():\n",
    "    out_structure_builder.init_chain(chain_id=chain)\n",
    "    out_structure_builder.init_seg(segid=chain)\n",
    "    for resnb in capsid_atoms_dict[chain].keys():\n",
    "        out_structure_builder.init_residue(resname=capsid_resnames_dict[resnb], field=\" \", resseq=resnb, icode=' ')\n",
    "        for el in capsid_atoms_dict[chain][resnb]:\n",
    "            b_factor = contact_dict[(resnb, chain)]\n",
    "            out_structure_builder.init_atom(name=el.name, coord=el.position, b_factor=b_factor, occupancy=1.0, altloc=' ', fullname=el.name, element=el.name[0])\n",
    "\n",
    "out_structure = out_structure_builder.get_structure()\n",
    "\n",
    "io=PDBIO()\n",
    "io.set_structure(out_structure)\n",
    "io.save(output_name)"
   ]
  },
  {
   "cell_type": "code",
   "execution_count": null,
   "id": "2f273052-7aa0-4c21-9860-5b8789e19da8",
   "metadata": {},
   "outputs": [],
   "source": [
    "\n",
    "\n"
   ]
  },
  {
   "cell_type": "code",
   "execution_count": null,
   "id": "e7975ad9-62a8-48c5-9714-2a774040358e",
   "metadata": {},
   "outputs": [],
   "source": []
  }
 ],
 "metadata": {
  "kernelspec": {
   "display_name": "Python 3 (ipykernel)",
   "language": "python",
   "name": "python3"
  },
  "language_info": {
   "codemirror_mode": {
    "name": "ipython",
    "version": 3
   },
   "file_extension": ".py",
   "mimetype": "text/x-python",
   "name": "python",
   "nbconvert_exporter": "python",
   "pygments_lexer": "ipython3",
   "version": "3.11.7"
  }
 },
 "nbformat": 4,
 "nbformat_minor": 5
}
