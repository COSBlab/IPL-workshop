{
 "cells": [
  {
   "cell_type": "code",
   "execution_count": 2,
   "id": "8c401095-ea80-40ac-8f23-bcdb63650186",
   "metadata": {},
   "outputs": [],
   "source": [
    "import os\n",
    "import sys\n",
    "import glob"
   ]
  },
  {
   "cell_type": "markdown",
   "id": "e26c2c07-a20b-443c-91b2-2bcd0ff3ec3b",
   "metadata": {},
   "source": [
    "## Read the hit table and extract the pdb information (% identity witht the compared sequence, e-value):"
   ]
  },
  {
   "cell_type": "code",
   "execution_count": 3,
   "id": "3f9d840e-33a6-4157-a71c-1ea425d3de98",
   "metadata": {},
   "outputs": [],
   "source": [
    "with open(\"./hit_table.txt\", \"r\") as f:\n",
    "    data = [el.rstrip(\"\\n\").split(\"\\t\") for el in f.readlines() if el[0] != \"#\"]\n",
    "data = [el for el in data if el != ['']]\n",
    "#data\n",
    "names = [el[1] for el in data]\n",
    "per_identitys = [float(el[2]) for el in data]\n",
    "e_values = [float(el[-3]) for el in data]\n",
    "#\n",
    "for i, el in enumerate(names):\n",
    "    print(\"system: {} \\t identity: {} \\t e-value: {}\".format(names[i], per_identitys[i], e_values[i]))\n",
    "\n",
    "hit_results = {el: {\"%identity\": per_identitys[i], \"e-value\": e_values[i]} for i, el in enumerate(names)}"
   ]
  },
  {
   "cell_type": "markdown",
   "id": "ae8e5ef4-9960-4ae3-b78d-b45dc896312f",
   "metadata": {},
   "source": [
    "## select the best hits by e-value, sequence identity etc\n",
    "### download the pdbs\n",
    "### transform the pdbs into fasta\n",
    "## make the input text for MAFFT (homolog_sequences.fasta)"
   ]
  },
  {
   "cell_type": "code",
   "execution_count": 4,
   "id": "855946dc-3331-4eed-9d9f-61fa397e0c76",
   "metadata": {},
   "outputs": [],
   "source": [
    "selected_hits = [(el[0:4], el[5]) if len(el) > 4 else (el[0:4], 'A') for el in hit_results.keys() if (el != \"TvLDH\" and (hit_results[el][\"e-value\"] <= 1e-10 and hit_results[el][\"%identity\"] >= 50.0))]\n",
    "\n",
    "os.system(\"rm ./homolog_sequences.fasta\")\n",
    "# for each hit:\n",
    "for (pdb, chain) in selected_hits:\n",
    "    print(\"PDB: {}   chain: {}\".format(pdb, chain))\n",
    "    # download the pdb structure if not present already\n",
    "    if not glob.glob(\"../Structures/{}.pdb\".format(pdb)):\n",
    "        print(\"downloading {}.pdb\".format(pdb))\n",
    "        os.system(\"curl -s -f https://files.rcsb.org/download/{}.pdb -o ../Structures/{}.pdb\".format(pdb, pdb))\n",
    "        #os.system(\"gzip -d ./structures/{}.pdb.gz\".format(pdb))\n",
    "    # make fasta sequence\n",
    "    if not glob.glob(\"../Sequences/{}.fasta\".format(pdb)):\n",
    "        os.system(\"./pdb2fasta.py -pdb ../Structures/{}.pdb -out ../Sequences/{}_{}.fasta -chain {}\".format(pdb, pdb, chain, chain))\n",
    "\n",
    "    # cat all the sequences in a single file:\n",
    "    os.system(\"cat ../Sequences/{}_{}.fasta >> ./homolog_sequences.fasta\".format(pdb, chain))\n",
    "    os.system(\"echo \"\" >> ./homolog_sequences.fasta\".format(pdb))"
   ]
  },
  {
   "cell_type": "code",
   "execution_count": null,
   "id": "8b38fb3a-f15d-4b6e-8987-2a87b24e22e5",
   "metadata": {},
   "outputs": [],
   "source": []
  }
 ],
 "metadata": {
  "kernelspec": {
   "display_name": "Python 3 (ipykernel)",
   "language": "python",
   "name": "python3"
  },
  "language_info": {
   "codemirror_mode": {
    "name": "ipython",
    "version": 3
   },
   "file_extension": ".py",
   "mimetype": "text/x-python",
   "name": "python",
   "nbconvert_exporter": "python",
   "pygments_lexer": "ipython3",
   "version": "3.11.7"
  }
 },
 "nbformat": 4,
 "nbformat_minor": 5
}
