{
 "cells": [
  {
   "cell_type": "markdown",
   "id": "7595ef7c-e75d-4f2b-8fab-bf230724f0ce",
   "metadata": {},
   "source": [
    "# MODELLER RESULTS ANALYSIS"
   ]
  },
  {
   "cell_type": "code",
   "execution_count": 2,
   "id": "e78c0a53-ac9f-4c1d-b2c9-1207891ec3d3",
   "metadata": {},
   "outputs": [],
   "source": [
    "import matplotlib.pyplot as plt\n",
    "import numpy as np"
   ]
  },
  {
   "cell_type": "markdown",
   "id": "46e68ba4-a2b0-4b73-b958-1f85c75175d5",
   "metadata": {},
   "source": [
    "## Read and plot the DOPE profiles of the MODELLER results after modelling and evaluate the model quality."
   ]
  },
  {
   "cell_type": "code",
   "execution_count": null,
   "id": "fee99096-6334-4e74-804c-cee9cdfbe38d",
   "metadata": {},
   "outputs": [],
   "source": []
  }
 ],
 "metadata": {
  "kernelspec": {
   "display_name": "Python 3 (ipykernel)",
   "language": "python",
   "name": "python3"
  },
  "language_info": {
   "codemirror_mode": {
    "name": "ipython",
    "version": 3
   },
   "file_extension": ".py",
   "mimetype": "text/x-python",
   "name": "python",
   "nbconvert_exporter": "python",
   "pygments_lexer": "ipython3",
   "version": "3.11.7"
  }
 },
 "nbformat": 4,
 "nbformat_minor": 5
}
